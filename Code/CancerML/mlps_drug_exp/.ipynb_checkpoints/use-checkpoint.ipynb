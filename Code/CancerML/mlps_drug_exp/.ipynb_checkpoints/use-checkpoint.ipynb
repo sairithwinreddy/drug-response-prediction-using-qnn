{
 "cells": [
  {
   "cell_type": "code",
   "execution_count": 4,
   "metadata": {},
   "outputs": [],
   "source": [
    "import torch\n",
    "from torch import nn, optim\n",
    "from torch.autograd import Variable\n",
    "from torch.utils.data import DataLoader\n",
    "from torchvision import datasets, transforms\n",
    "import pandas as pd\n",
    "\n",
    "from mlp import MLP\n",
    "from lantentDataset import LatentDataset\n",
    "from sklearn.metrics import r2_score\n",
    "import matplotlib.pyplot as plt"
   ]
  },
  {
   "cell_type": "code",
   "execution_count": 5,
   "metadata": {},
   "outputs": [],
   "source": [
    "model = MLP()\n",
    "if torch.cuda.is_available():\n",
    "    model = model.cuda()"
   ]
  },
  {
   "cell_type": "code",
   "execution_count": 6,
   "metadata": {},
   "outputs": [
    {
     "data": {
      "text/plain": [
       "<All keys matched successfully>"
      ]
     },
     "execution_count": 6,
     "metadata": {},
     "output_type": "execute_result"
    }
   ],
   "source": [
    "path = '.\\\\trainedModels\\\\'\n",
    "model.load_state_dict(torch.load(path + 'modelParameters.pt'))"
   ]
  },
  {
   "cell_type": "code",
   "execution_count": 7,
   "metadata": {},
   "outputs": [],
   "source": [
    "dataFile = os.path.join('.\\\\data', 'LatentVec_Drug+GeneExp(cgc123).txt')\n",
    "data = pd.read_table(open(dataFile))\n",
    "testData = data.loc[3000: , :]\n",
    "testDataset = LatentDataset(testData, train0test1=1)\n",
    "testLoader = DataLoader(testDataset, batch_size=300, drop_last=True)"
   ]
  },
  {
   "cell_type": "code",
   "execution_count": 8,
   "metadata": {},
   "outputs": [],
   "source": [
    "model.eval()\n",
    "criterion = nn.MSELoss()"
   ]
  },
  {
   "cell_type": "code",
   "execution_count": 9,
   "metadata": {},
   "outputs": [
    {
     "name": "stdout",
     "output_type": "stream",
     "text": [
      "Test Loss: 1.375190, R2_Score: 0.819627\n"
     ]
    },
    {
     "data": {
      "image/png": "[encoded data removed]",
      "text/plain": [
       "<Figure size 432x288 with 1 Axes>"
      ]
     },
     "metadata": {
      "needs_background": "light"
     },
     "output_type": "display_data"
    }
   ],
   "source": [
    "for batch in testLoader:\n",
    "    geLatentVec, dLatentVec, target = batch\n",
    "    if torch.cuda.is_available():\n",
    "        geLatentVec = geLatentVec.cuda()\n",
    "        dLatentVec = dLatentVec.cuda()\n",
    "        target = target.cuda()\n",
    "\n",
    "    out = model(geLatentVec, dLatentVec)\n",
    "    loss = criterion(out, target)\n",
    "    evalLoss = loss.data.item()\n",
    "    # SS_tot = torch.std(target)\n",
    "    # SS_res = evalLoss\n",
    "    out = out.data.cpu().numpy().tolist()\n",
    "    target = target.cpu().numpy().tolist()\n",
    "    r2 = r2_score(target, out)\n",
    "    print('Test Loss: {:.6f}, R2_Score: {:.6f}'.format(evalLoss, r2))\n",
    "\n",
    "    with torch.no_grad():\n",
    "        plt.scatter(target, out)\n"
   ]
  },
  {
   "cell_type": "code",
   "execution_count": null,
   "metadata": {},
   "outputs": [],
   "source": []
  },
  {
   "cell_type": "code",
   "execution_count": null,
   "metadata": {},
   "outputs": [],
   "source": []
  },
  {
   "cell_type": "code",
   "execution_count": null,
   "metadata": {},
   "outputs": [],
   "source": []
  }
 ],
 "metadata": {
  "kernelspec": {
   "display_name": "python36",
   "language": "python",
   "name": "python36"
  },
  "language_info": {
   "codemirror_mode": {
    "name": "ipython",
    "version": 3
   },
   "file_extension": ".py",
   "mimetype": "text/x-python",
   "name": "python",
   "nbconvert_exporter": "python",
   "pygments_lexer": "ipython3",
   "version": "3.6.10"
  }
 },
 "nbformat": 4,
 "nbformat_minor": 4
}
